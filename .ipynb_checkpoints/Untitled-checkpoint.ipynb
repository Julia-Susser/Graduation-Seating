{
 "cells": [
  {
   "cell_type": "code",
   "execution_count": 1,
   "metadata": {},
   "outputs": [],
   "source": [
    "import pandas as pd\n",
    "import numpy as np"
   ]
  },
  {
   "cell_type": "code",
   "execution_count": 92,
   "metadata": {},
   "outputs": [],
   "source": [
    "df = pd.read_csv(\"info.csv\").iloc[:,1:]"
   ]
  },
  {
   "cell_type": "code",
   "execution_count": 93,
   "metadata": {},
   "outputs": [],
   "source": [
    "df = df.set_index(\"Your name\")"
   ]
  },
  {
   "cell_type": "code",
   "execution_count": 90,
   "metadata": {},
   "outputs": [],
   "source": []
  },
  {
   "cell_type": "code",
   "execution_count": 176,
   "metadata": {},
   "outputs": [
    {
     "data": {
      "text/plain": [
       "0"
      ]
     },
     "execution_count": 176,
     "metadata": {},
     "output_type": "execute_result"
    }
   ],
   "source": [
    "[2, 3, 5, 7, 8].index(2)"
   ]
  },
  {
   "cell_type": "code",
   "execution_count": 261,
   "metadata": {},
   "outputs": [],
   "source": [
    "\n",
    "class Students():\n",
    "    df = pd.read_csv(\"info.csv\").iloc[:,1:]\n",
    "    df = df.set_index(\"Your name\")\n",
    "    def __init__(self):\n",
    "        self.matches()\n",
    "        self.idealPairs()\n",
    "        #print(self.firsts)\n",
    "        self.stringPairs = []\n",
    "        string= self.createString(10, self.matches)\n",
    "        print(string)\n",
    "        print(len(string))\n",
    "        print(self.stringPairs)\n",
    "        \n",
    "    def matches(self):\n",
    "        self.matches = []\n",
    "        for person,choices in df.iterrows():\n",
    "                for rank1,choice in enumerate(choices):\n",
    "                    if person > choice: continue\n",
    "                    if not pd.isnull(choice):\n",
    "                        OtherPersonChoices = list(df.loc[choice])\n",
    "                        if person in OtherPersonChoices:\n",
    "                            rank2 = OtherPersonChoices.index(person)\n",
    "                            self.matches.append({\"person1\":person,\"rank1\":rank1+1,\"person2\":choice, \"rank2\":rank2+1})\n",
    "                        elif np.isnan(OtherPersonChoices).all():\n",
    "                            self.matches.append({\"person1\":person,\"rank1\":rank1+1,\"person2\":choice, \"rank2\":None})\n",
    "    def idealPairs(self):\n",
    "        self.firsts = []\n",
    "        for pair in matches:\n",
    "            if pair[\"rank1\"] in [1,2,None] and pair[\"rank2\"] in [1,2,None]:\n",
    "                self.firsts.append(pair)\n",
    "                \n",
    "    def getPeople(self,pair):\n",
    "        return [pair[\"person1\"],pair[\"person2\"]]\n",
    "    \n",
    "    def CompositeScore(self, pair):\n",
    "        rank1 = pair[\"rank1\"]\n",
    "        rank2 = pair[\"rank2\"]\n",
    "        totalRank = rank2*2 if rank1 == None else (rank1*2 if rank2==None else rank1+rank2)\n",
    "        return totalRank\n",
    "    \n",
    "    def lowestCompositeScore(self, person, matches): \n",
    "        matches = self.getMatches(person, matches)\n",
    "        if len(matches)==0: return None \n",
    "        scores = [self.CompositeScore(pair) for pair in matches]\n",
    "        minScore = min(scores)\n",
    "        bestPair = matches[scores.index(minScore)]\n",
    "        self.stringPairs.append(bestPair)\n",
    "        p = bestPair[\"person1\"] if person != bestPair[\"person1\"] else bestPair[\"person2\"]\n",
    "        return p\n",
    "        \n",
    "    def getChoices(self,p):\n",
    "        return list(df.loc[p])\n",
    "    def createString(self, person,matches,people,n=0):\n",
    "        newPerson = self.lowestCompositeScore(person, matches)\n",
    "        if newPerson==None:\n",
    "            while \n",
    "            p = random.choice(people)\n",
    "            \n",
    "        if newPerson==None or n==25:\n",
    "            return [person]\n",
    "        matches = self.removePersonFromMatches(person,matches)\n",
    "        people = self.removePersonFromPeople(person, people)\n",
    "        return [person] + self.createString(newPerson,matches,people, n+1)\n",
    "    \n",
    "    def removePersonFromMatches(self,person, matches):\n",
    "        return [pair for pair in matches if not (pair[\"person1\"]==person or pair[\"person2\"]==person)]\n",
    "    \n",
    "    def removePersonFromPeople(self,p, people):\n",
    "        return [person for person in people if person != p]\n",
    "    \n",
    "    def samePeople(self,pair, p1,p2):\n",
    "        np1, np2 = pair[\"person1\"],pair[\"person2\"]\n",
    "        if (np1 == p1 and np2==p2) or (np2 == p1 and np1==p2):\n",
    "            return True\n",
    "        return False\n",
    "    \n",
    "    \n",
    "    def removeMatch(self,p1,p2, matches):\n",
    "        return [pair for pair in matches if not self.samePeople(pair,p1,p2)]\n",
    "        \n",
    "                \n",
    "    def getMatches(self,person,matches):\n",
    "        return [pair for pair in matches if pair[\"person1\"]==person or pair[\"person2\"]==person]\n",
    "    "
   ]
  },
  {
   "cell_type": "code",
   "execution_count": 262,
   "metadata": {},
   "outputs": [
    {
     "name": "stdout",
     "output_type": "stream",
     "text": [
      "84.0\n",
      "75\n",
      "52\n",
      "18\n",
      "76.0\n",
      "44\n",
      "64.0\n",
      "26\n",
      "48.0\n",
      "45\n",
      "16\n",
      "17.0\n",
      "[10, 84.0, 75, 52, 18, 76.0, 44, 64.0, 26, 48.0, 45, 16, 17.0]\n",
      "13\n",
      "[{'person1': 10, 'rank1': 1, 'person2': 84.0, 'rank2': None}, {'person1': 75, 'rank1': 1, 'person2': 84.0, 'rank2': None}, {'person1': 52, 'rank1': 3, 'person2': 75.0, 'rank2': 2}, {'person1': 18, 'rank1': 1, 'person2': 52.0, 'rank2': 2}, {'person1': 18, 'rank1': 2, 'person2': 76.0, 'rank2': 3}, {'person1': 44, 'rank1': 4, 'person2': 76.0, 'rank2': 1}, {'person1': 44, 'rank1': 1, 'person2': 64.0, 'rank2': 2}, {'person1': 26, 'rank1': 2, 'person2': 64.0, 'rank2': 1}, {'person1': 26, 'rank1': 1, 'person2': 48.0, 'rank2': 1}, {'person1': 45, 'rank1': 2, 'person2': 48.0, 'rank2': 2}, {'person1': 16, 'rank1': 1, 'person2': 45.0, 'rank2': 1}, {'person1': 16, 'rank1': 2, 'person2': 17.0, 'rank2': 3}]\n"
     ]
    }
   ],
   "source": [
    "obj = Students()"
   ]
  },
  {
   "cell_type": "code",
   "execution_count": 247,
   "metadata": {},
   "outputs": [
    {
     "data": {
      "text/plain": [
       "[{'person1': 10, 'rank1': 1, 'person2': 84.0, 'rank2': None},\n",
       " {'person1': 10, 'rank1': 2, 'person2': 29.0, 'rank2': 2}]"
      ]
     },
     "execution_count": 247,
     "metadata": {},
     "output_type": "execute_result"
    }
   ],
   "source": [
    "obj.getMatches(10,obj.firsts)"
   ]
  },
  {
   "cell_type": "code",
   "execution_count": 120,
   "metadata": {},
   "outputs": [],
   "source": [
    "def startStrings():\n",
    "    firsts = obj.firsts\n",
    "    for x in firsts:\n",
    "        "
   ]
  },
  {
   "cell_type": "code",
   "execution_count": 258,
   "metadata": {},
   "outputs": [
    {
     "data": {
      "text/plain": [
       "First Person     45.0\n",
       "Second person    48.0\n",
       "Third person     16.0\n",
       "Fourth person     NaN\n",
       "Fifth person      NaN\n",
       "Name: 17, dtype: float64"
      ]
     },
     "execution_count": 258,
     "metadata": {},
     "output_type": "execute_result"
    }
   ],
   "source": [
    "df.loc[17]"
   ]
  },
  {
   "cell_type": "code",
   "execution_count": 109,
   "metadata": {},
   "outputs": [],
   "source": [
    "matches = []\n",
    "for person,choices in df.iterrows():\n",
    "        for rank1,choice in enumerate(choices):\n",
    "            if person > choice: continue\n",
    "            if not pd.isnull(choice):\n",
    "                OtherPersonChoices = list(df.loc[choice])\n",
    "                if person in OtherPersonChoices:\n",
    "                    rank2 = OtherPersonChoices.index(person)\n",
    "                    matches.append({\"person1\":person,\"rank1\":rank1+1,\"person2\":choice, \"rank2\":rank2+1})\n",
    "                elif np.isnan(OtherPersonChoices).all():\n",
    "                    matches.append({\"person1\":person,\"rank1\":rank1+1,\"person2\":choice, \"rank2\":None})\n",
    "                \n",
    "            "
   ]
  },
  {
   "cell_type": "code",
   "execution_count": 111,
   "metadata": {},
   "outputs": [
    {
     "data": {
      "text/plain": [
       "[{'person1': 1, 'rank1': 1, 'person2': 13.0, 'rank2': 1},\n",
       " {'person1': 1, 'rank1': 2, 'person2': 12.0, 'rank2': 1},\n",
       " {'person1': 1, 'rank1': 3, 'person2': 78.0, 'rank2': 2},\n",
       " {'person1': 1, 'rank1': 4, 'person2': 8.0, 'rank2': 3},\n",
       " {'person1': 1, 'rank1': 5, 'person2': 34.0, 'rank2': 3},\n",
       " {'person1': 2, 'rank1': 1, 'person2': 61.0, 'rank2': 3},\n",
       " {'person1': 2, 'rank1': 2, 'person2': 42.0, 'rank2': 5},\n",
       " {'person1': 2, 'rank1': 3, 'person2': 39.0, 'rank2': 2},\n",
       " {'person1': 2, 'rank1': 4, 'person2': 3.0, 'rank2': 3},\n",
       " {'person1': 2, 'rank1': 5, 'person2': 69.0, 'rank2': 4},\n",
       " {'person1': 3, 'rank1': 1, 'person2': 61.0, 'rank2': 1},\n",
       " {'person1': 3, 'rank1': 2, 'person2': 39.0, 'rank2': 1},\n",
       " {'person1': 3, 'rank1': 4, 'person2': 69.0, 'rank2': 5},\n",
       " {'person1': 4, 'rank1': 1, 'person2': 37.0, 'rank2': 2},\n",
       " {'person1': 4, 'rank1': 2, 'person2': 21.0, 'rank2': 2},\n",
       " {'person1': 4, 'rank1': 3, 'person2': 14.0, 'rank2': 5},\n",
       " {'person1': 4, 'rank1': 4, 'person2': 28.0, 'rank2': 4},\n",
       " {'person1': 4, 'rank1': 5, 'person2': 51.0, 'rank2': 4},\n",
       " {'person1': 5, 'rank1': 1, 'person2': 43.0, 'rank2': 2},\n",
       " {'person1': 5, 'rank1': 2, 'person2': 7.0, 'rank2': 3},\n",
       " {'person1': 6, 'rank1': 3, 'person2': 80.0, 'rank2': None},\n",
       " {'person1': 7, 'rank1': 1, 'person2': 43.0, 'rank2': 1},\n",
       " {'person1': 7, 'rank1': 2, 'person2': 42.0, 'rank2': 1},\n",
       " {'person1': 7, 'rank1': 4, 'person2': 36.0, 'rank2': 5},\n",
       " {'person1': 7, 'rank1': 5, 'person2': 82.0, 'rank2': None},\n",
       " {'person1': 8, 'rank1': 1, 'person2': 78.0, 'rank2': 1},\n",
       " {'person1': 8, 'rank1': 2, 'person2': 12.0, 'rank2': 4},\n",
       " {'person1': 9, 'rank1': 1, 'person2': 49.0, 'rank2': 1},\n",
       " {'person1': 10, 'rank1': 1, 'person2': 84.0, 'rank2': None},\n",
       " {'person1': 10, 'rank1': 2, 'person2': 29.0, 'rank2': 2},\n",
       " {'person1': 12, 'rank1': 3, 'person2': 13.0, 'rank2': 3},\n",
       " {'person1': 14, 'rank1': 1, 'person2': 58.0, 'rank2': 1},\n",
       " {'person1': 14, 'rank1': 2, 'person2': 38.0, 'rank2': 3},\n",
       " {'person1': 14, 'rank1': 3, 'person2': 81.0, 'rank2': None},\n",
       " {'person1': 15, 'rank1': 1, 'person2': 34.0, 'rank2': 1},\n",
       " {'person1': 15, 'rank1': 2, 'person2': 33.0, 'rank2': 1},\n",
       " {'person1': 16, 'rank1': 1, 'person2': 45.0, 'rank2': 1},\n",
       " {'person1': 16, 'rank1': 2, 'person2': 17.0, 'rank2': 3},\n",
       " {'person1': 16, 'rank1': 4, 'person2': 49.0, 'rank2': 3},\n",
       " {'person1': 17, 'rank1': 1, 'person2': 45.0, 'rank2': 3},\n",
       " {'person1': 17, 'rank1': 2, 'person2': 48.0, 'rank2': 4},\n",
       " {'person1': 18, 'rank1': 1, 'person2': 52.0, 'rank2': 2},\n",
       " {'person1': 18, 'rank1': 2, 'person2': 76.0, 'rank2': 3},\n",
       " {'person1': 19, 'rank1': 1, 'person2': 25.0, 'rank2': 1},\n",
       " {'person1': 19, 'rank1': 2, 'person2': 40.0, 'rank2': 2},\n",
       " {'person1': 19, 'rank1': 3, 'person2': 57.0, 'rank2': None},\n",
       " {'person1': 20, 'rank1': 2, 'person2': 83.0, 'rank2': None},\n",
       " {'person1': 20, 'rank1': 5, 'person2': 57.0, 'rank2': None},\n",
       " {'person1': 21, 'rank1': 1, 'person2': 38.0, 'rank2': 1},\n",
       " {'person1': 21, 'rank1': 3, 'person2': 37.0, 'rank2': 1},\n",
       " {'person1': 21, 'rank1': 4, 'person2': 28.0, 'rank2': 2},\n",
       " {'person1': 22, 'rank1': 1, 'person2': 53.0, 'rank2': 1},\n",
       " {'person1': 22, 'rank1': 2, 'person2': 57.0, 'rank2': None},\n",
       " {'person1': 22, 'rank1': 3, 'person2': 85.0, 'rank2': None},\n",
       " {'person1': 22, 'rank1': 4, 'person2': 40.0, 'rank2': 4},\n",
       " {'person1': 22, 'rank1': 5, 'person2': 25.0, 'rank2': 4},\n",
       " {'person1': 24, 'rank1': 1, 'person2': 63.0, 'rank2': 5},\n",
       " {'person1': 25, 'rank1': 2, 'person2': 40.0, 'rank2': 3},\n",
       " {'person1': 25, 'rank1': 3, 'person2': 57.0, 'rank2': None},\n",
       " {'person1': 25, 'rank1': 5, 'person2': 85.0, 'rank2': None},\n",
       " {'person1': 26, 'rank1': 1, 'person2': 48.0, 'rank2': 1},\n",
       " {'person1': 26, 'rank1': 2, 'person2': 64.0, 'rank2': 1},\n",
       " {'person1': 26, 'rank1': 3, 'person2': 47.0, 'rank2': 1},\n",
       " {'person1': 26, 'rank1': 4, 'person2': 50.0, 'rank2': 5},\n",
       " {'person1': 27, 'rank1': 1, 'person2': 86.0, 'rank2': None},\n",
       " {'person1': 27, 'rank1': 2, 'person2': 31.0, 'rank2': 1},\n",
       " {'person1': 28, 'rank1': 1, 'person2': 51.0, 'rank2': 1},\n",
       " {'person1': 28, 'rank1': 3, 'person2': 37.0, 'rank2': 3},\n",
       " {'person1': 29, 'rank1': 1, 'person2': 87.0, 'rank2': None},\n",
       " {'person1': 29, 'rank1': 3, 'person2': 88.0, 'rank2': None},\n",
       " {'person1': 30, 'rank1': 1, 'person2': 41.0, 'rank2': 3},\n",
       " {'person1': 30, 'rank1': 2, 'person2': 32.0, 'rank2': 5},\n",
       " {'person1': 31, 'rank1': 2, 'person2': 86.0, 'rank2': None},\n",
       " {'person1': 32, 'rank1': 1, 'person2': 41.0, 'rank2': 4},\n",
       " {'person1': 32, 'rank1': 3, 'person2': 82.0, 'rank2': None},\n",
       " {'person1': 32, 'rank1': 4, 'person2': 42.0, 'rank2': 4},\n",
       " {'person1': 33, 'rank1': 2, 'person2': 34.0, 'rank2': 2},\n",
       " {'person1': 33, 'rank1': 3, 'person2': 67.0, 'rank2': 1},\n",
       " {'person1': 33, 'rank1': 4, 'person2': 82.0, 'rank2': None},\n",
       " {'person1': 33, 'rank1': 5, 'person2': 89.0, 'rank2': None},\n",
       " {'person1': 34, 'rank1': 4, 'person2': 35.0, 'rank2': 3},\n",
       " {'person1': 34, 'rank1': 5, 'person2': 78.0, 'rank2': 5},\n",
       " {'person1': 35, 'rank1': 4, 'person2': 86.0, 'rank2': None},\n",
       " {'person1': 36, 'rank1': 1, 'person2': 82.0, 'rank2': None},\n",
       " {'person1': 36, 'rank1': 2, 'person2': 43.0, 'rank2': 3},\n",
       " {'person1': 36, 'rank1': 4, 'person2': 46.0, 'rank2': 1},\n",
       " {'person1': 37, 'rank1': 4, 'person2': 81.0, 'rank2': None},\n",
       " {'person1': 38, 'rank1': 2, 'person2': 51.0, 'rank2': 2},\n",
       " {'person1': 38, 'rank1': 4, 'person2': 81.0, 'rank2': None},\n",
       " {'person1': 38, 'rank1': 5, 'person2': 91.0, 'rank2': None},\n",
       " {'person1': 39, 'rank1': 3, 'person2': 61.0, 'rank2': 2},\n",
       " {'person1': 39, 'rank1': 4, 'person2': 69.0, 'rank2': 2},\n",
       " {'person1': 40, 'rank1': 1, 'person2': 57.0, 'rank2': None},\n",
       " {'person1': 40, 'rank1': 5, 'person2': 53.0, 'rank2': 3},\n",
       " {'person1': 41, 'rank1': 2, 'person2': 42.0, 'rank2': 3},\n",
       " {'person1': 42, 'rank1': 2, 'person2': 69.0, 'rank2': 1},\n",
       " {'person1': 43, 'rank1': 4, 'person2': 46.0, 'rank2': 2},\n",
       " {'person1': 43, 'rank1': 5, 'person2': 82.0, 'rank2': None},\n",
       " {'person1': 44, 'rank1': 1, 'person2': 64.0, 'rank2': 2},\n",
       " {'person1': 44, 'rank1': 2, 'person2': 73.0, 'rank2': 4},\n",
       " {'person1': 44, 'rank1': 4, 'person2': 76.0, 'rank2': 1},\n",
       " {'person1': 45, 'rank1': 2, 'person2': 48.0, 'rank2': 2},\n",
       " {'person1': 46, 'rank1': 3, 'person2': 82.0, 'rank2': None},\n",
       " {'person1': 48, 'rank1': 3, 'person2': 50.0, 'rank2': 4},\n",
       " {'person1': 49, 'rank1': 4, 'person2': 78.0, 'rank2': 4},\n",
       " {'person1': 50, 'rank1': 1, 'person2': 73.0, 'rank2': 2},\n",
       " {'person1': 52, 'rank1': 1, 'person2': 76.0, 'rank2': 2},\n",
       " {'person1': 52, 'rank1': 3, 'person2': 75.0, 'rank2': 2},\n",
       " {'person1': 52, 'rank1': 4, 'person2': 85.0, 'rank2': None},\n",
       " {'person1': 53, 'rank1': 2, 'person2': 85.0, 'rank2': None},\n",
       " {'person1': 53, 'rank1': 4, 'person2': 57.0, 'rank2': None},\n",
       " {'person1': 53, 'rank1': 5, 'person2': 72.0, 'rank2': 3},\n",
       " {'person1': 54, 'rank1': 1, 'person2': 56.0, 'rank2': None},\n",
       " {'person1': 54, 'rank1': 2, 'person2': 80.0, 'rank2': None},\n",
       " {'person1': 54, 'rank1': 5, 'person2': 84.0, 'rank2': None},\n",
       " {'person1': 58, 'rank1': 2, 'person2': 81.0, 'rank2': None},\n",
       " {'person1': 59, 'rank1': 1, 'person2': 83.0, 'rank2': None},\n",
       " {'person1': 59, 'rank1': 2, 'person2': 72.0, 'rank2': 1},\n",
       " {'person1': 59, 'rank1': 5, 'person2': 93.0, 'rank2': None},\n",
       " {'person1': 61, 'rank1': 5, 'person2': 69.0, 'rank2': 3},\n",
       " {'person1': 62, 'rank1': 1, 'person2': 67.0, 'rank2': 4},\n",
       " {'person1': 62, 'rank1': 2, 'person2': 68.0, 'rank2': 5},\n",
       " {'person1': 62, 'rank1': 4, 'person2': 94.0, 'rank2': None},\n",
       " {'person1': 65, 'rank1': 1, 'person2': 87.0, 'rank2': None},\n",
       " {'person1': 65, 'rank1': 2, 'person2': 84.0, 'rank2': None},\n",
       " {'person1': 65, 'rank1': 3, 'person2': 88.0, 'rank2': None},\n",
       " {'person1': 65, 'rank1': 4, 'person2': 77.0, 'rank2': 4},\n",
       " {'person1': 66, 'rank1': 1, 'person2': 88.0, 'rank2': None},\n",
       " {'person1': 66, 'rank1': 3, 'person2': 92.0, 'rank2': None},\n",
       " {'person1': 67, 'rank1': 2, 'person2': 68.0, 'rank2': 1},\n",
       " {'person1': 68, 'rank1': 2, 'person2': 79.0, 'rank2': 1},\n",
       " {'person1': 68, 'rank1': 3, 'person2': 80.0, 'rank2': None},\n",
       " {'person1': 70, 'rank1': 1, 'person2': 89.0, 'rank2': None},\n",
       " {'person1': 71, 'rank1': 1, 'person2': 79.0, 'rank2': 4},\n",
       " {'person1': 71, 'rank1': 3, 'person2': 80.0, 'rank2': None},\n",
       " {'person1': 72, 'rank1': 2, 'person2': 83.0, 'rank2': None},\n",
       " {'person1': 72, 'rank1': 5, 'person2': 93.0, 'rank2': None},\n",
       " {'person1': 73, 'rank1': 5, 'person2': 82.0, 'rank2': None},\n",
       " {'person1': 74, 'rank1': 1, 'person2': 78.0, 'rank2': 3},\n",
       " {'person1': 75, 'rank1': 1, 'person2': 84.0, 'rank2': None},\n",
       " {'person1': 75, 'rank1': 3, 'person2': 76.0, 'rank2': 4},\n",
       " {'person1': 75, 'rank1': 4, 'person2': 85.0, 'rank2': None},\n",
       " {'person1': 75, 'rank1': 5, 'person2': 83.0, 'rank2': None},\n",
       " {'person1': 77, 'rank1': 1, 'person2': 88.0, 'rank2': None},\n",
       " {'person1': 77, 'rank1': 5, 'person2': 87.0, 'rank2': None},\n",
       " {'person1': 79, 'rank1': 3, 'person2': 80.0, 'rank2': None},\n",
       " {'person1': 79, 'rank1': 5, 'person2': 90.0, 'rank2': None}]"
      ]
     },
     "execution_count": 111,
     "metadata": {},
     "output_type": "execute_result"
    }
   ],
   "source": [
    "matches"
   ]
  },
  {
   "cell_type": "code",
   "execution_count": 112,
   "metadata": {},
   "outputs": [
    {
     "data": {
      "text/plain": [
       "[[1, 13.0],\n",
       " [1, 12.0],\n",
       " [3, 61.0],\n",
       " [3, 39.0],\n",
       " [4, 37.0],\n",
       " [4, 21.0],\n",
       " [5, 43.0],\n",
       " [7, 43.0],\n",
       " [7, 42.0],\n",
       " [8, 78.0],\n",
       " [9, 49.0],\n",
       " [10, 84.0],\n",
       " [10, 29.0],\n",
       " [14, 58.0],\n",
       " [15, 34.0],\n",
       " [15, 33.0],\n",
       " [16, 45.0],\n",
       " [18, 52.0],\n",
       " [19, 25.0],\n",
       " [19, 40.0],\n",
       " [20, 83.0],\n",
       " [21, 38.0],\n",
       " [22, 53.0],\n",
       " [22, 57.0],\n",
       " [26, 48.0],\n",
       " [26, 64.0],\n",
       " [27, 86.0],\n",
       " [27, 31.0],\n",
       " [28, 51.0],\n",
       " [29, 87.0],\n",
       " [31, 86.0],\n",
       " [33, 34.0],\n",
       " [36, 82.0],\n",
       " [38, 51.0],\n",
       " [40, 57.0],\n",
       " [42, 69.0],\n",
       " [44, 64.0],\n",
       " [45, 48.0],\n",
       " [50, 73.0],\n",
       " [52, 76.0],\n",
       " [53, 85.0],\n",
       " [54, 56.0],\n",
       " [54, 80.0],\n",
       " [58, 81.0],\n",
       " [59, 83.0],\n",
       " [59, 72.0],\n",
       " [65, 87.0],\n",
       " [65, 84.0],\n",
       " [66, 88.0],\n",
       " [67, 68.0],\n",
       " [68, 79.0],\n",
       " [70, 89.0],\n",
       " [72, 83.0],\n",
       " [75, 84.0],\n",
       " [77, 88.0]]"
      ]
     },
     "execution_count": 112,
     "metadata": {},
     "output_type": "execute_result"
    }
   ],
   "source": [
    "firsts"
   ]
  },
  {
   "cell_type": "code",
   "execution_count": 97,
   "metadata": {},
   "outputs": [
    {
     "data": {
      "text/plain": [
       "False"
      ]
     },
     "execution_count": 97,
     "metadata": {},
     "output_type": "execute_result"
    }
   ],
   "source": [
    "np.isnan([1,2,np.nan]).all()"
   ]
  },
  {
   "cell_type": "code",
   "execution_count": 82,
   "metadata": {},
   "outputs": [
    {
     "data": {
      "text/plain": [
       "First Person      1.0\n",
       "Second person    78.0\n",
       "Third person     12.0\n",
       "Fourth person    34.0\n",
       "Fifth person     15.0\n",
       "Name: 13, dtype: float64"
      ]
     },
     "execution_count": 82,
     "metadata": {},
     "output_type": "execute_result"
    }
   ],
   "source": [
    "df.loc[13]"
   ]
  },
  {
   "cell_type": "code",
   "execution_count": 74,
   "metadata": {},
   "outputs": [
    {
     "data": {
      "text/plain": [
       "[{'person1': 1, 'rank1': 1, 'person2': 13.0, 'rank2': 1},\n",
       " {'person1': 1, 'rank1': 2, 'person2': 12.0, 'rank2': 1},\n",
       " {'person1': 1, 'rank1': 3, 'person2': 78.0, 'rank2': 2},\n",
       " {'person1': 1, 'rank1': 4, 'person2': 8.0, 'rank2': 3},\n",
       " {'person1': 1, 'rank1': 5, 'person2': 34.0, 'rank2': 3},\n",
       " {'person1': 2, 'rank1': 1, 'person2': 61.0, 'rank2': 3},\n",
       " {'person1': 2, 'rank1': 2, 'person2': 42.0, 'rank2': 5},\n",
       " {'person1': 2, 'rank1': 3, 'person2': 39.0, 'rank2': 2},\n",
       " {'person1': 2, 'rank1': 4, 'person2': 3.0, 'rank2': 3},\n",
       " {'person1': 2, 'rank1': 5, 'person2': 69.0, 'rank2': 4},\n",
       " {'person1': 3, 'rank1': 1, 'person2': 61.0, 'rank2': 1},\n",
       " {'person1': 3, 'rank1': 2, 'person2': 39.0, 'rank2': 1},\n",
       " {'person1': 3, 'rank1': 4, 'person2': 69.0, 'rank2': 5},\n",
       " {'person1': 4, 'rank1': 1, 'person2': 37.0, 'rank2': 2},\n",
       " {'person1': 4, 'rank1': 2, 'person2': 21.0, 'rank2': 2},\n",
       " {'person1': 4, 'rank1': 3, 'person2': 14.0, 'rank2': 5},\n",
       " {'person1': 4, 'rank1': 4, 'person2': 28.0, 'rank2': 4},\n",
       " {'person1': 4, 'rank1': 5, 'person2': 51.0, 'rank2': 4},\n",
       " {'person1': 5, 'rank1': 1, 'person2': 43.0, 'rank2': 2},\n",
       " {'person1': 5, 'rank1': 2, 'person2': 7.0, 'rank2': 3},\n",
       " {'person1': 7, 'rank1': 1, 'person2': 43.0, 'rank2': 1},\n",
       " {'person1': 7, 'rank1': 2, 'person2': 42.0, 'rank2': 1},\n",
       " {'person1': 7, 'rank1': 4, 'person2': 36.0, 'rank2': 5},\n",
       " {'person1': 8, 'rank1': 1, 'person2': 78.0, 'rank2': 1},\n",
       " {'person1': 8, 'rank1': 2, 'person2': 12.0, 'rank2': 4},\n",
       " {'person1': 9, 'rank1': 1, 'person2': 49.0, 'rank2': 1},\n",
       " {'person1': 10, 'rank1': 2, 'person2': 29.0, 'rank2': 2},\n",
       " {'person1': 12, 'rank1': 3, 'person2': 13.0, 'rank2': 3},\n",
       " {'person1': 14, 'rank1': 1, 'person2': 58.0, 'rank2': 1},\n",
       " {'person1': 14, 'rank1': 2, 'person2': 38.0, 'rank2': 3},\n",
       " {'person1': 15, 'rank1': 1, 'person2': 34.0, 'rank2': 1},\n",
       " {'person1': 15, 'rank1': 2, 'person2': 33.0, 'rank2': 1},\n",
       " {'person1': 16, 'rank1': 1, 'person2': 45.0, 'rank2': 1},\n",
       " {'person1': 16, 'rank1': 2, 'person2': 17.0, 'rank2': 3},\n",
       " {'person1': 16, 'rank1': 4, 'person2': 49.0, 'rank2': 3},\n",
       " {'person1': 17, 'rank1': 1, 'person2': 45.0, 'rank2': 3},\n",
       " {'person1': 17, 'rank1': 2, 'person2': 48.0, 'rank2': 4},\n",
       " {'person1': 18, 'rank1': 1, 'person2': 52.0, 'rank2': 2},\n",
       " {'person1': 18, 'rank1': 2, 'person2': 76.0, 'rank2': 3},\n",
       " {'person1': 19, 'rank1': 1, 'person2': 25.0, 'rank2': 1},\n",
       " {'person1': 19, 'rank1': 2, 'person2': 40.0, 'rank2': 2},\n",
       " {'person1': 21, 'rank1': 1, 'person2': 38.0, 'rank2': 1},\n",
       " {'person1': 21, 'rank1': 3, 'person2': 37.0, 'rank2': 1},\n",
       " {'person1': 21, 'rank1': 4, 'person2': 28.0, 'rank2': 2},\n",
       " {'person1': 22, 'rank1': 1, 'person2': 53.0, 'rank2': 1},\n",
       " {'person1': 22, 'rank1': 4, 'person2': 40.0, 'rank2': 4},\n",
       " {'person1': 22, 'rank1': 5, 'person2': 25.0, 'rank2': 4},\n",
       " {'person1': 24, 'rank1': 1, 'person2': 63.0, 'rank2': 5},\n",
       " {'person1': 25, 'rank1': 2, 'person2': 40.0, 'rank2': 3},\n",
       " {'person1': 26, 'rank1': 1, 'person2': 48.0, 'rank2': 1},\n",
       " {'person1': 26, 'rank1': 2, 'person2': 64.0, 'rank2': 1},\n",
       " {'person1': 26, 'rank1': 3, 'person2': 47.0, 'rank2': 1},\n",
       " {'person1': 26, 'rank1': 4, 'person2': 50.0, 'rank2': 5},\n",
       " {'person1': 27, 'rank1': 2, 'person2': 31.0, 'rank2': 1},\n",
       " {'person1': 28, 'rank1': 1, 'person2': 51.0, 'rank2': 1},\n",
       " {'person1': 28, 'rank1': 3, 'person2': 37.0, 'rank2': 3},\n",
       " {'person1': 30, 'rank1': 1, 'person2': 41.0, 'rank2': 3},\n",
       " {'person1': 30, 'rank1': 2, 'person2': 32.0, 'rank2': 5},\n",
       " {'person1': 32, 'rank1': 1, 'person2': 41.0, 'rank2': 4},\n",
       " {'person1': 32, 'rank1': 4, 'person2': 42.0, 'rank2': 4},\n",
       " {'person1': 33, 'rank1': 2, 'person2': 34.0, 'rank2': 2},\n",
       " {'person1': 33, 'rank1': 3, 'person2': 67.0, 'rank2': 1},\n",
       " {'person1': 34, 'rank1': 4, 'person2': 35.0, 'rank2': 3},\n",
       " {'person1': 34, 'rank1': 5, 'person2': 78.0, 'rank2': 5},\n",
       " {'person1': 36, 'rank1': 2, 'person2': 43.0, 'rank2': 3},\n",
       " {'person1': 36, 'rank1': 4, 'person2': 46.0, 'rank2': 1},\n",
       " {'person1': 38, 'rank1': 2, 'person2': 51.0, 'rank2': 2},\n",
       " {'person1': 39, 'rank1': 3, 'person2': 61.0, 'rank2': 2},\n",
       " {'person1': 39, 'rank1': 4, 'person2': 69.0, 'rank2': 2},\n",
       " {'person1': 40, 'rank1': 5, 'person2': 53.0, 'rank2': 3},\n",
       " {'person1': 41, 'rank1': 2, 'person2': 42.0, 'rank2': 3},\n",
       " {'person1': 42, 'rank1': 2, 'person2': 69.0, 'rank2': 1},\n",
       " {'person1': 43, 'rank1': 4, 'person2': 46.0, 'rank2': 2},\n",
       " {'person1': 44, 'rank1': 1, 'person2': 64.0, 'rank2': 2},\n",
       " {'person1': 44, 'rank1': 2, 'person2': 73.0, 'rank2': 4},\n",
       " {'person1': 44, 'rank1': 4, 'person2': 76.0, 'rank2': 1},\n",
       " {'person1': 45, 'rank1': 2, 'person2': 48.0, 'rank2': 2},\n",
       " {'person1': 48, 'rank1': 3, 'person2': 50.0, 'rank2': 4},\n",
       " {'person1': 49, 'rank1': 4, 'person2': 78.0, 'rank2': 4},\n",
       " {'person1': 50, 'rank1': 1, 'person2': 73.0, 'rank2': 2},\n",
       " {'person1': 52, 'rank1': 1, 'person2': 76.0, 'rank2': 2},\n",
       " {'person1': 52, 'rank1': 3, 'person2': 75.0, 'rank2': 2},\n",
       " {'person1': 53, 'rank1': 5, 'person2': 72.0, 'rank2': 3},\n",
       " {'person1': 59, 'rank1': 2, 'person2': 72.0, 'rank2': 1},\n",
       " {'person1': 61, 'rank1': 5, 'person2': 69.0, 'rank2': 3},\n",
       " {'person1': 62, 'rank1': 1, 'person2': 67.0, 'rank2': 4},\n",
       " {'person1': 62, 'rank1': 2, 'person2': 68.0, 'rank2': 5},\n",
       " {'person1': 65, 'rank1': 4, 'person2': 77.0, 'rank2': 4},\n",
       " {'person1': 67, 'rank1': 2, 'person2': 68.0, 'rank2': 1},\n",
       " {'person1': 68, 'rank1': 2, 'person2': 79.0, 'rank2': 1},\n",
       " {'person1': 71, 'rank1': 1, 'person2': 79.0, 'rank2': 4},\n",
       " {'person1': 74, 'rank1': 1, 'person2': 78.0, 'rank2': 3},\n",
       " {'person1': 75, 'rank1': 3, 'person2': 76.0, 'rank2': 4}]"
      ]
     },
     "execution_count": 74,
     "metadata": {},
     "output_type": "execute_result"
    }
   ],
   "source": [
    "matches"
   ]
  },
  {
   "cell_type": "code",
   "execution_count": null,
   "metadata": {},
   "outputs": [],
   "source": []
  }
 ],
 "metadata": {
  "kernelspec": {
   "display_name": "Python 3",
   "language": "python",
   "name": "python3"
  },
  "language_info": {
   "codemirror_mode": {
    "name": "ipython",
    "version": 3
   },
   "file_extension": ".py",
   "mimetype": "text/x-python",
   "name": "python",
   "nbconvert_exporter": "python",
   "pygments_lexer": "ipython3",
   "version": "3.8.4"
  }
 },
 "nbformat": 4,
 "nbformat_minor": 4
}
